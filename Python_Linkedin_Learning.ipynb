{
  "nbformat": 4,
  "nbformat_minor": 0,
  "metadata": {
    "colab": {
      "provenance": [],
      "include_colab_link": true
    },
    "kernelspec": {
      "name": "python3",
      "display_name": "Python 3"
    },
    "language_info": {
      "name": "python"
    }
  },
  "cells": [
    {
      "cell_type": "markdown",
      "metadata": {
        "id": "view-in-github",
        "colab_type": "text"
      },
      "source": [
        "<a href=\"https://colab.research.google.com/github/protmaks/PJ_LL_Google_Colab/blob/main/Python_Linkedin_Learning.ipynb\" target=\"_parent\"><img src=\"https://colab.research.google.com/assets/colab-badge.svg\" alt=\"Open In Colab\"/></a>"
      ]
    },
    {
      "cell_type": "markdown",
      "source": [
        "#1. Функция деления числа. 630 = 2x3x3x5x7"
      ],
      "metadata": {
        "id": "9erfm3PDz-Nw"
      }
    },
    {
      "cell_type": "code",
      "source": [
        "def get_prime_factors(number):\n",
        "  factors = []\n",
        "  divisor = 2\n",
        "  while divisor <= number:\n",
        "    if number % divisor == 0:\n",
        "      factors.append(divisor)\n",
        "      number = number // divisor\n",
        "    else:\n",
        "      divisor += 1\n",
        "  return factors\n",
        "\n",
        "num = 650\n",
        "print('Число ', num, 'делится на:', get_prime_factors(num))\n"
      ],
      "metadata": {
        "colab": {
          "base_uri": "https://localhost:8080/"
        },
        "id": "C9OgBE-8z-_I",
        "outputId": "f35ff878-a2f3-426d-da1a-25f6cdd67ecc"
      },
      "execution_count": null,
      "outputs": [
        {
          "output_type": "stream",
          "name": "stdout",
          "text": [
            "Число  650 делится на: [2, 5, 5, 13]\n"
          ]
        }
      ]
    },
    {
      "cell_type": "markdown",
      "source": [
        "# 2. Проверка полиндромов 121, mam, pap, 3443"
      ],
      "metadata": {
        "id": "PO2vhGFP0o7Q"
      }
    },
    {
      "cell_type": "code",
      "source": [
        "import re\n",
        "\n",
        "def is_polindrome(phrase):\n",
        "  print('phrase=', phrase)\n",
        "  forwards = ''.join(re.findall(r'[a-z]+', phrase.lower()))\n",
        "  print('forwards= ', forwards)\n",
        "  backwards = forwards[::-1]\n",
        "  print('backwards= ', backwards)\n",
        "  return forwards == backwards\n",
        "\n",
        "print('is polindrome?', is_polindrome(\"Go hang a salami, I'm a lasagna hog.\"))"
      ],
      "metadata": {
        "colab": {
          "base_uri": "https://localhost:8080/"
        },
        "id": "2EJYwENquuWp",
        "outputId": "63e6b467-ff4d-407a-a695-1514265777f2"
      },
      "execution_count": null,
      "outputs": [
        {
          "output_type": "stream",
          "name": "stdout",
          "text": [
            "phrase= Go hang a salami, I'm a lasagna hog.\n",
            "forwards=  gohangasalamiimalasagnahog\n",
            "backwards=  gohangasalamiimalasagnahog\n",
            "is polindrome? True\n"
          ]
        }
      ]
    },
    {
      "cell_type": "markdown",
      "source": [
        "#3. Сортировка слов в строке string"
      ],
      "metadata": {
        "id": "6uVU-UqUBJXJ"
      }
    },
    {
      "cell_type": "code",
      "source": [
        "def sort_words(words):\n",
        "  return ''.join(sorted(words.split(), key=str.casefold))\n",
        "\n",
        "word = ('banan apple potatos')\n",
        "print(sort_words(word))"
      ],
      "metadata": {
        "colab": {
          "base_uri": "https://localhost:8080/"
        },
        "id": "4zzZcle_BMS3",
        "outputId": "d96dacf3-2bde-4b76-b8d5-5d7cc2a37da7"
      },
      "execution_count": null,
      "outputs": [
        {
          "output_type": "stream",
          "name": "stdout",
          "text": [
            "applebananpotatosskickersthe\n"
          ]
        }
      ]
    },
    {
      "cell_type": "markdown",
      "source": [
        "#4.  Поиск индекса в Списке"
      ],
      "metadata": {
        "id": "0UFhbHwCcheg"
      }
    },
    {
      "cell_type": "code",
      "source": [
        "example = [[[1,2,3],2,[1,3]],[1,2,3]]\n",
        "\n",
        "def index_all(search_list, item):\n",
        "  index_list = []\n",
        "  # Использование enumerate() для нахождения индексов\n",
        "  for index, value in enumerate(search_list):\n",
        "    if value == item:\n",
        "      index_list.append([index])\n",
        "    # isinstance() Позволяет проверить принадлежность экземпляра к классу\n",
        "    elif isinstance(search_list[index], list):\n",
        "      for i in index_all(search_list[index], item):\n",
        "        index_list.append([index] + i)\n",
        "  return index_list\n",
        "\n",
        "index_all(example, 3)"
      ],
      "metadata": {
        "id": "1Huph-0Uchtw",
        "colab": {
          "base_uri": "https://localhost:8080/"
        },
        "outputId": "6a1b33a3-8548-4d19-b308-6380bfaafb98"
      },
      "execution_count": null,
      "outputs": [
        {
          "output_type": "execute_result",
          "data": {
            "text/plain": [
              "[[0, 0, 2], [0, 2, 1], [1, 2]]"
            ]
          },
          "metadata": {},
          "execution_count": 7
        }
      ]
    },
    {
      "cell_type": "markdown",
      "source": [
        "#5. Игра - нажми Enter через указанное количество секунд"
      ],
      "metadata": {
        "id": "RuSnB8kk0Yms"
      }
    },
    {
      "cell_type": "code",
      "source": [
        "# import time\n",
        "# import random\n",
        "\n",
        "def waiting_game():\n",
        "  target = random.randint(2,4) # target seconds to wait\n",
        "  print(f'\\nYour target time is {target} seconds')\n",
        "\n",
        "  input('--- Press ENTER to Begin --- ')\n",
        "  start = time.perf_counter()\n",
        "\n",
        "  input(f'\\n... Press ENTER againt after {target} seconds ... ')\n",
        "  # остановка таймера после нажатия кнопки ENTER\n",
        "  elapsed = time.perf_counter() - start\n",
        "\n",
        "  print(f'\\nElapsed time: {elapsed :.3f} seconds')\n",
        "  if elapsed == target:\n",
        "    print('(Unbelivable! Perfect timing!)')\n",
        "  elif elapsed < target:\n",
        "    print(f'({target - elapsed :.3f} seconds too fast)')\n",
        "  else:\n",
        "    print(f'({elapsed - target :.3f} seconds too slow)')\n",
        "\n",
        "waiting_game()"
      ],
      "metadata": {
        "colab": {
          "base_uri": "https://localhost:8080/"
        },
        "id": "7C07AMRm0Yy1",
        "outputId": "ebb1747a-bc77-4e78-c736-f3191f8fa8d2"
      },
      "execution_count": null,
      "outputs": [
        {
          "output_type": "stream",
          "name": "stdout",
          "text": [
            "\n",
            "Your target time is 3 seconds\n",
            "--- Press ENTER to Begin --- \n",
            "\n",
            "... Press ENTER againt after 3 seconds ... \n",
            "\n",
            "Elapsed time: 3.374 seconds\n",
            "(0.374 seconds too slow)\n"
          ]
        }
      ]
    },
    {
      "cell_type": "markdown",
      "source": [
        "#6. Запись и чтение данных из файла pickle"
      ],
      "metadata": {
        "id": "SX7GlQD3DNQL"
      }
    },
    {
      "cell_type": "code",
      "source": [
        "# модуль pickle широко применяется для сохранения и загрузки сложных объектов в Python\n",
        "import pickle\n",
        "\n",
        "def save_dict(dict_to_save, file_path):\n",
        "  with open(file_path, 'wb') as file:\n",
        "    pickle.dump(dict_to_save, file)\n",
        "\n",
        "def load_dict(file_path):\n",
        "  with open(file_path, 'rb') as file:\n",
        "    return pickle.load(file)\n",
        "\n",
        "test_dict = {1: 'a',2: 'b',3: 'c'}\n",
        "save_dict(test_dict, 'test_dict.pickle')\n",
        "\n",
        "recovered = load_dict('test_dict.pickle')\n",
        "print('recovered: ', recovered)"
      ],
      "metadata": {
        "colab": {
          "base_uri": "https://localhost:8080/"
        },
        "id": "c8nB8WBzDNbU",
        "outputId": "220d48db-bb3e-46f4-8335-d9e52af21fec"
      },
      "execution_count": null,
      "outputs": [
        {
          "output_type": "stream",
          "name": "stdout",
          "text": [
            "recovered:  {1: 'a', 2: 'b', 3: 'c'}\n"
          ]
        }
      ]
    },
    {
      "cell_type": "markdown",
      "source": [
        "#7. Будильник. Функция с отложенным таймером и выводом сообщений."
      ],
      "metadata": {
        "id": "2m9qHZCQQEHF"
      }
    },
    {
      "cell_type": "code",
      "source": [
        "import sched\n",
        "import time\n",
        "\n",
        "def schedule_function(event_time, function, *args):\n",
        "  s = sched.scheduler(time.time, time.sleep)\n",
        "  s.enterabs(event_time, 1, function, argument=args)\n",
        "  print(f'{function.__name__}() scheduled for {time.asctime(time.localtime(event_time))}')\n",
        "  s.run()\n",
        "\n",
        "schedule_function(time.time() + 5, print, 'Howdy!', 'How are you?')"
      ],
      "metadata": {
        "colab": {
          "base_uri": "https://localhost:8080/"
        },
        "id": "Su0PJlfeQEUx",
        "outputId": "b0d0f48e-2488-4026-8e98-f6a02920d40a"
      },
      "execution_count": null,
      "outputs": [
        {
          "output_type": "stream",
          "name": "stdout",
          "text": [
            "print() scheduled for Thu Dec  1 15:27:47 2022\n",
            "Howdy! How are you?\n"
          ]
        }
      ]
    },
    {
      "cell_type": "markdown",
      "source": [
        "#8. Отправка сообщения на почту"
      ],
      "metadata": {
        "id": "VKb-fHZxWTAc"
      }
    },
    {
      "cell_type": "code",
      "source": [
        "import smtplib\n",
        "\n",
        "SENDER_EMAIL = 'емейл' # адрес почты отправителя\n",
        "SENDER_PASSWORD = 'пароль' # пароль от почты\n",
        "\n",
        "def send_email(receiver_email, subject, body):\n",
        "  message = f'Subject: {subject}\\n\\n{body}'\n",
        "  with smtplib.SMTP('smtp.office365.som', 587) as server:\n",
        "    server.starttls()\n",
        "    server.login(SENDER_EMAIL, SENDER_PASSWORD)\n",
        "    server.sendmail(SENDER_EMAIL, receiver_email, message)\n",
        "\n",
        "send_email('test@ya.ru', 'Notification','Everything is asome!')"
      ],
      "metadata": {
        "id": "y4Uo3h1ZWVS-"
      },
      "execution_count": null,
      "outputs": []
    },
    {
      "cell_type": "markdown",
      "source": [
        "#9. Процент вероятности выпадения суммы игровых кубиков при 1000000 попыток"
      ],
      "metadata": {
        "id": "Wp8bKjRbntsw"
      }
    },
    {
      "cell_type": "code",
      "source": [
        "from random import randint\n",
        "from collections import Counter\n",
        "\n",
        "def roll_dice(*dice, num_trials=1_000_000):\n",
        "  counts = Counter()\n",
        "  for _ in range(num_trials):\n",
        "    counts[sum((randint(1, sides) for sides in dice))] += 1\n",
        "\n",
        "  print('\\nOUTCOME\\tPROBABLITY')\n",
        "  for outcome in range(len(dice), sum(dice) + 1):\n",
        "    print(f'{outcome}\\t{counts[outcome] * 100 / num_trials :0.2f} %')\n",
        "\n",
        "# Бросаем три кубика с гранями: 6,6,4 (можно любое количество)\n",
        "roll_dice(6,6,4)"
      ],
      "metadata": {
        "colab": {
          "base_uri": "https://localhost:8080/"
        },
        "id": "UUO5ngeSnt3e",
        "outputId": "51796142-6922-49d9-9a63-d9f8d68be3d1"
      },
      "execution_count": null,
      "outputs": [
        {
          "output_type": "stream",
          "name": "stdout",
          "text": [
            "\n",
            "OUTCOME\tPROBABLITY\n",
            "3\t0.69 %\n",
            "4\t2.08 %\n",
            "5\t4.19 %\n",
            "6\t6.96 %\n",
            "7\t9.70 %\n",
            "8\t12.52 %\n",
            "9\t13.84 %\n",
            "10\t13.84 %\n",
            "11\t12.57 %\n",
            "12\t9.73 %\n",
            "13\t6.95 %\n",
            "14\t4.15 %\n",
            "15\t2.07 %\n",
            "16\t0.70 %\n"
          ]
        }
      ]
    },
    {
      "cell_type": "markdown",
      "source": [
        "#10. Топ 20 уникальных слов из файла txt\n"
      ],
      "metadata": {
        "id": "RVIzhrozrKbt"
      }
    },
    {
      "cell_type": "code",
      "source": [
        "import re\n",
        "import collections\n",
        "\n",
        "def count_words(path):\n",
        "  with open(path, 'r', encoding='utf-8') as file:\n",
        "    all_words = re.findall(r\"[0-9a-zA-Z-']+\", file.read())\n",
        "    all_words = [word.upper() for word in all_words]\n",
        "    \n",
        "    print(f'\\nTotal Words: {len(all_words)}')\n",
        "\n",
        "    word_counts = collections.Counter(all_words)\n",
        "\n",
        "    print('\\nTop 20 Words:')\n",
        "    for word in word_counts.most_common(20):\n",
        "      print(f'{word[0]}\\t{word[1]}')\n",
        "\n",
        "count_words('text.txt')"
      ],
      "metadata": {
        "colab": {
          "base_uri": "https://localhost:8080/"
        },
        "id": "TOGDAEFsrK1C",
        "outputId": "1f2fbbbd-ee89-424a-ccc7-800d11bb2bef"
      },
      "execution_count": null,
      "outputs": [
        {
          "output_type": "stream",
          "name": "stdout",
          "text": [
            "\n",
            "Total Words: 63287\n",
            "\n",
            "Top 20 Words:\n",
            "THE\t3399\n",
            "TO\t1819\n",
            "SHE\t1806\n",
            "AND\t1549\n",
            "A\t1429\n",
            "OF\t1293\n",
            "HER\t1220\n",
            "THAT\t1122\n",
            "WAS\t1044\n",
            "HE\t1035\n",
            "IT\t904\n",
            "IN\t795\n",
            "HAD\t699\n",
            "I\t682\n",
            "YOU\t651\n",
            "MACKENZIE\t537\n",
            "SAID\t523\n",
            "ON\t502\n",
            "AS\t489\n",
            "FOR\t472\n"
          ]
        }
      ]
    },
    {
      "cell_type": "markdown",
      "source": [
        "#11. Генератор пароля из слов в файле   ??? не работает\n",
        "[GIT](https://https://github.com/LinkedInLearning/level-up-python-3210418/tree/main/src/11%20Generate%20a%20Password)"
      ],
      "metadata": {
        "id": "X4HFPTPavF-N"
      }
    },
    {
      "cell_type": "code",
      "source": [
        "import secrets\n",
        "\n",
        "def generate_passphrase(num_words, wordlist_path='diceware.wordlist.asc'):\n",
        "    with open(wordlist_path, 'r', encoding='utf-8') as file:\n",
        "        lines = file.readlines()[2:7778]\n",
        "        word_list = [line.split()[1] for line in lines]\n",
        "\n",
        "    words = [secrets.choice(word_list) for i in range(num_words)]\n",
        "    return ' '.join(words)\n",
        "\n",
        "print(generate_passphrase(7))"
      ],
      "metadata": {
        "colab": {
          "base_uri": "https://localhost:8080/",
          "height": 345
        },
        "id": "PPEa7QOrvKRy",
        "outputId": "5ef52c9e-23d1-4b68-e58e-3a94b238519b"
      },
      "execution_count": null,
      "outputs": [
        {
          "output_type": "error",
          "ename": "AttributeError",
          "evalue": "ignored",
          "traceback": [
            "\u001b[0;31m---------------------------------------------------------------------------\u001b[0m",
            "\u001b[0;31mAttributeError\u001b[0m                            Traceback (most recent call last)",
            "\u001b[0;32m<ipython-input-13-928b4758a266>\u001b[0m in \u001b[0;36m<module>\u001b[0;34m\u001b[0m\n\u001b[1;32m      9\u001b[0m     \u001b[0;32mreturn\u001b[0m \u001b[0;34m' '\u001b[0m\u001b[0;34m.\u001b[0m\u001b[0mjoin\u001b[0m\u001b[0;34m(\u001b[0m\u001b[0mwords\u001b[0m\u001b[0;34m)\u001b[0m\u001b[0;34m\u001b[0m\u001b[0;34m\u001b[0m\u001b[0m\n\u001b[1;32m     10\u001b[0m \u001b[0;34m\u001b[0m\u001b[0m\n\u001b[0;32m---> 11\u001b[0;31m \u001b[0mprint\u001b[0m\u001b[0;34m(\u001b[0m\u001b[0mgenerate_passphrase\u001b[0m\u001b[0;34m(\u001b[0m\u001b[0;36m7\u001b[0m\u001b[0;34m)\u001b[0m\u001b[0;34m)\u001b[0m\u001b[0;34m\u001b[0m\u001b[0;34m\u001b[0m\u001b[0m\n\u001b[0m",
            "\u001b[0;32m<ipython-input-13-928b4758a266>\u001b[0m in \u001b[0;36mgenerate_passphrase\u001b[0;34m(num_words, wordlist_path)\u001b[0m\n\u001b[1;32m      4\u001b[0m     \u001b[0;32mwith\u001b[0m \u001b[0mopen\u001b[0m\u001b[0;34m(\u001b[0m\u001b[0mwordlist_path\u001b[0m\u001b[0;34m,\u001b[0m \u001b[0;34m'r'\u001b[0m\u001b[0;34m,\u001b[0m \u001b[0mencoding\u001b[0m\u001b[0;34m=\u001b[0m\u001b[0;34m'utf-8'\u001b[0m\u001b[0;34m)\u001b[0m \u001b[0;32mas\u001b[0m \u001b[0mfile\u001b[0m\u001b[0;34m:\u001b[0m\u001b[0;34m\u001b[0m\u001b[0;34m\u001b[0m\u001b[0m\n\u001b[1;32m      5\u001b[0m         \u001b[0mlines\u001b[0m \u001b[0;34m=\u001b[0m \u001b[0mfile\u001b[0m\u001b[0;34m.\u001b[0m\u001b[0mreadlines\u001b[0m\u001b[0;34m(\u001b[0m\u001b[0;34m)\u001b[0m\u001b[0;34m[\u001b[0m\u001b[0;36m2\u001b[0m\u001b[0;34m:\u001b[0m\u001b[0;36m7778\u001b[0m\u001b[0;34m]\u001b[0m\u001b[0;34m\u001b[0m\u001b[0;34m\u001b[0m\u001b[0m\n\u001b[0;32m----> 6\u001b[0;31m         \u001b[0mword_list\u001b[0m \u001b[0;34m=\u001b[0m \u001b[0;34m[\u001b[0m\u001b[0mlines\u001b[0m\u001b[0;34m.\u001b[0m\u001b[0msplit\u001b[0m\u001b[0;34m(\u001b[0m\u001b[0;34m)\u001b[0m\u001b[0;34m[\u001b[0m\u001b[0;36m1\u001b[0m\u001b[0;34m]\u001b[0m \u001b[0;32mfor\u001b[0m \u001b[0mline\u001b[0m \u001b[0;32min\u001b[0m \u001b[0mlines\u001b[0m\u001b[0;34m]\u001b[0m\u001b[0;34m\u001b[0m\u001b[0;34m\u001b[0m\u001b[0m\n\u001b[0m\u001b[1;32m      7\u001b[0m \u001b[0;34m\u001b[0m\u001b[0m\n\u001b[1;32m      8\u001b[0m     \u001b[0mwords\u001b[0m \u001b[0;34m=\u001b[0m \u001b[0;34m[\u001b[0m\u001b[0msecrets\u001b[0m\u001b[0;34m.\u001b[0m\u001b[0mchoice\u001b[0m\u001b[0;34m(\u001b[0m\u001b[0mword_list\u001b[0m\u001b[0;34m)\u001b[0m \u001b[0;32mfor\u001b[0m \u001b[0mi\u001b[0m \u001b[0;32min\u001b[0m \u001b[0mrange\u001b[0m\u001b[0;34m(\u001b[0m\u001b[0mnum_words\u001b[0m\u001b[0;34m)\u001b[0m\u001b[0;34m]\u001b[0m\u001b[0;34m\u001b[0m\u001b[0;34m\u001b[0m\u001b[0m\n",
            "\u001b[0;32m<ipython-input-13-928b4758a266>\u001b[0m in \u001b[0;36m<listcomp>\u001b[0;34m(.0)\u001b[0m\n\u001b[1;32m      4\u001b[0m     \u001b[0;32mwith\u001b[0m \u001b[0mopen\u001b[0m\u001b[0;34m(\u001b[0m\u001b[0mwordlist_path\u001b[0m\u001b[0;34m,\u001b[0m \u001b[0;34m'r'\u001b[0m\u001b[0;34m,\u001b[0m \u001b[0mencoding\u001b[0m\u001b[0;34m=\u001b[0m\u001b[0;34m'utf-8'\u001b[0m\u001b[0;34m)\u001b[0m \u001b[0;32mas\u001b[0m \u001b[0mfile\u001b[0m\u001b[0;34m:\u001b[0m\u001b[0;34m\u001b[0m\u001b[0;34m\u001b[0m\u001b[0m\n\u001b[1;32m      5\u001b[0m         \u001b[0mlines\u001b[0m \u001b[0;34m=\u001b[0m \u001b[0mfile\u001b[0m\u001b[0;34m.\u001b[0m\u001b[0mreadlines\u001b[0m\u001b[0;34m(\u001b[0m\u001b[0;34m)\u001b[0m\u001b[0;34m[\u001b[0m\u001b[0;36m2\u001b[0m\u001b[0;34m:\u001b[0m\u001b[0;36m7778\u001b[0m\u001b[0;34m]\u001b[0m\u001b[0;34m\u001b[0m\u001b[0;34m\u001b[0m\u001b[0m\n\u001b[0;32m----> 6\u001b[0;31m         \u001b[0mword_list\u001b[0m \u001b[0;34m=\u001b[0m \u001b[0;34m[\u001b[0m\u001b[0mlines\u001b[0m\u001b[0;34m.\u001b[0m\u001b[0msplit\u001b[0m\u001b[0;34m(\u001b[0m\u001b[0;34m)\u001b[0m\u001b[0;34m[\u001b[0m\u001b[0;36m1\u001b[0m\u001b[0;34m]\u001b[0m \u001b[0;32mfor\u001b[0m \u001b[0mline\u001b[0m \u001b[0;32min\u001b[0m \u001b[0mlines\u001b[0m\u001b[0;34m]\u001b[0m\u001b[0;34m\u001b[0m\u001b[0;34m\u001b[0m\u001b[0m\n\u001b[0m\u001b[1;32m      7\u001b[0m \u001b[0;34m\u001b[0m\u001b[0m\n\u001b[1;32m      8\u001b[0m     \u001b[0mwords\u001b[0m \u001b[0;34m=\u001b[0m \u001b[0;34m[\u001b[0m\u001b[0msecrets\u001b[0m\u001b[0;34m.\u001b[0m\u001b[0mchoice\u001b[0m\u001b[0;34m(\u001b[0m\u001b[0mword_list\u001b[0m\u001b[0;34m)\u001b[0m \u001b[0;32mfor\u001b[0m \u001b[0mi\u001b[0m \u001b[0;32min\u001b[0m \u001b[0mrange\u001b[0m\u001b[0;34m(\u001b[0m\u001b[0mnum_words\u001b[0m\u001b[0;34m)\u001b[0m\u001b[0;34m]\u001b[0m\u001b[0;34m\u001b[0m\u001b[0;34m\u001b[0m\u001b[0m\n",
            "\u001b[0;31mAttributeError\u001b[0m: 'list' object has no attribute 'split'"
          ]
        }
      ]
    },
    {
      "cell_type": "markdown",
      "source": [
        "#12. Прочитатать два CSV файла и объединить по названию столбцов"
      ],
      "metadata": {
        "id": "r3T3jmXc1uc-"
      }
    },
    {
      "cell_type": "code",
      "source": [
        "import csv\n",
        "\n",
        "def merge_csv(csv_list, output_path):\n",
        "    # создаем пустой список имени полей\n",
        "    fieldnames = []\n",
        "    for file in csv_list:\n",
        "        with open(file, 'r', encoding='utf-8') as input_csv:\n",
        "            field = csv.DictReader(input_csv).fieldnames\n",
        "            fieldnames.extend(f for f in field if f not in fieldnames)\n",
        "\n",
        "    # записываем данные в выходной файл на основе имен полей\n",
        "    with open(output_path, 'w', encoding='utf-8', newline='') as output_csv:\n",
        "        writer = csv.DictWriter(output_csv, fieldnames=fieldnames)\n",
        "        writer.writeheader()\n",
        "        for file in csv_list:\n",
        "            with open(file, 'r', encoding='utf-8') as input_csv:\n",
        "                reader = csv.DictReader(input_csv)\n",
        "                for row in reader:\n",
        "                    writer.writerow(row)\n",
        "\n",
        "merge_csv(['class1.csv', 'class2.csv'], 'all_students.csv')"
      ],
      "metadata": {
        "id": "qQUTQSzl1yc4"
      },
      "execution_count": null,
      "outputs": []
    },
    {
      "cell_type": "markdown",
      "source": [
        "#13. Игра судоку"
      ],
      "metadata": {
        "id": "zge50_rW9reb"
      }
    },
    {
      "cell_type": "code",
      "source": [
        "from itertools import product\n",
        "\n",
        "def solve_sudoku(puzzle):\n",
        "    for (row, col) in product(range(0, 9), repeat=2):\n",
        "        if puzzle[row][col] == 0:  # find an unassigned cell\n",
        "            for num in range(1, 10):\n",
        "                allowed = True  # check if num is allowed in row/col/box\n",
        "                for i in range(0, 9):\n",
        "                    if num in (puzzle[i][col], puzzle[row][i]):\n",
        "                        allowed = False\n",
        "                        break  # not allowed in row or col\n",
        "                for (i, j) in product(range(0, 3), repeat=2):\n",
        "                    if puzzle[row - row % 3 + i][col - col % 3 + j] == num:\n",
        "                        allowed = False\n",
        "                        break  # not allowed in box\n",
        "                if allowed:\n",
        "                    puzzle[row][col] = num\n",
        "                    if trial := solve_sudoku(puzzle):\n",
        "                        return trial\n",
        "                    puzzle[row][col] = 0\n",
        "            return False  # could not place a number in this cell\n",
        "    return puzzle\n",
        "\n",
        "def print_sudoku(puzzle):\n",
        "    # replace zeroes with dashes\n",
        "    puzzle = [['*' if num == 0 else num for num in row] for row in puzzle]\n",
        "    print()\n",
        "    for row in range(0, 9):\n",
        "        if ((row % 3 == 0) and (row != 0)):\n",
        "            print('-' * 33)  # draw horizontal line\n",
        "        for col in range(0, 9):\n",
        "            if ((col % 3 == 0) and (col != 0)):\n",
        "                print(' | ', end='')  # draw vertical line\n",
        "            print(f' {puzzle[row][col]} ', end='')\n",
        "        print()\n",
        "    print()\n",
        "\n",
        "test_puzzle = [[5, 3, 0, 0, 7, 0, 0, 0, 0],\n",
        "               [6, 0, 0, 1, 9, 5, 0, 0, 0],\n",
        "               [0, 9, 8, 0, 0, 0, 0, 6, 0],\n",
        "               [8, 0, 0, 0, 6, 0, 0, 0, 3],\n",
        "               [4, 0, 0, 8, 0, 3, 0, 0, 1],\n",
        "               [7, 0, 0, 0, 2, 0, 0, 0, 6],\n",
        "               [0, 6, 0, 0, 0, 0, 2, 8, 0],\n",
        "               [0, 0, 0, 4, 1, 9, 0, 0, 5],\n",
        "               [0, 0, 0, 0, 8, 0, 0, 7, 9]]\n",
        "\n",
        "\n",
        "# commands used in solution video for reference\n",
        "print_sudoku(test_puzzle)\n",
        "solution = solve_sudoku(test_puzzle)\n",
        "print_sudoku(solution)"
      ],
      "metadata": {
        "colab": {
          "base_uri": "https://localhost:8080/"
        },
        "id": "dYwmnLxl9vC_",
        "outputId": "55089db8-db56-4192-d9a2-a346d98ae060"
      },
      "execution_count": null,
      "outputs": [
        {
          "output_type": "stream",
          "name": "stdout",
          "text": [
            "\n",
            " 5  3  *  |  *  7  *  |  *  *  * \n",
            " 6  *  *  |  1  9  5  |  *  *  * \n",
            " *  9  8  |  *  *  *  |  *  6  * \n",
            "---------------------------------\n",
            " 8  *  *  |  *  6  *  |  *  *  3 \n",
            " 4  *  *  |  8  *  3  |  *  *  1 \n",
            " 7  *  *  |  *  2  *  |  *  *  6 \n",
            "---------------------------------\n",
            " *  6  *  |  *  *  *  |  2  8  * \n",
            " *  *  *  |  4  1  9  |  *  *  5 \n",
            " *  *  *  |  *  8  *  |  *  7  9 \n",
            "\n",
            "\n",
            " 5  3  4  |  6  7  8  |  9  1  2 \n",
            " 6  7  2  |  1  9  5  |  3  4  8 \n",
            " 1  9  8  |  3  4  2  |  5  6  7 \n",
            "---------------------------------\n",
            " 8  5  9  |  7  6  1  |  4  2  3 \n",
            " 4  2  6  |  8  5  3  |  7  9  1 \n",
            " 7  1  3  |  9  2  4  |  8  5  6 \n",
            "---------------------------------\n",
            " 9  6  1  |  5  3  7  |  2  8  4 \n",
            " 2  8  7  |  4  1  9  |  6  3  5 \n",
            " 3  4  5  |  2  8  6  |  1  7  9 \n",
            "\n"
          ]
        }
      ]
    },
    {
      "cell_type": "markdown",
      "source": [
        "#14. Запаковать файлы в архив."
      ],
      "metadata": {
        "id": "LoDMOtrj_LYd"
      }
    },
    {
      "cell_type": "code",
      "source": [
        "import os\n",
        "from zipfile import ZipFile\n",
        "\n",
        "def zip_all(search_dir, extension_list, output_path):\n",
        "    with ZipFile(output_path, 'w') as output_zip:\n",
        "        for root, _, files in os.walk(search_dir):\n",
        "            rel_path = os.path.relpath(root, search_dir)\n",
        "            for file in files:\n",
        "                _, ext = os.path.splitext(file)\n",
        "                if ext.lower() in extension_list:\n",
        "                    output_zip.write(os.path.join(root, file), arcname=os.path.join(rel_path, file))\n",
        "\n",
        "zip_all('.\\\\my_stuff', ['.jpg','.txt'], 'my_stuff.zip')\n"
      ],
      "metadata": {
        "id": "ltDhM4mn_SAi"
      },
      "execution_count": null,
      "outputs": []
    },
    {
      "cell_type": "markdown",
      "source": [
        "#15. Скачать файлы из интернета проверяет в папке файлы по порядку, пока не выдаст 5 ошибок"
      ],
      "metadata": {
        "id": "v4-_C7NfAoVU"
      }
    },
    {
      "cell_type": "code",
      "source": [
        "import os\n",
        "import re\n",
        "import urllib.parse\n",
        "import urllib.request\n",
        "\n",
        "def download_files(first_url, output_dir):\n",
        "  # создаем папку, если её не существует\n",
        "    if not os.path.isdir(output_dir):\n",
        "        os.mkdir(output_dir)\n",
        "\n",
        "    url_head, url_tail = os.path.split(first_url)\n",
        "    first_index = re.findall(r'[0-9]+', url_tail)[-1]\n",
        "    index_count, error_count = 0, 0\n",
        "    while error_count < 5:\n",
        "        next_index = str(int(first_index) + index_count)\n",
        "        if first_index[0] == '0': # zero padded\n",
        "            next_index = '0' * (len(first_index) - len(next_index)) + next_index\n",
        "        next_url = urllib.parse.urljoin(url_head, re.sub(first_index, next_index, url_tail))\n",
        "        try:\n",
        "            output_file = os.path.join(output_dir, os.path.basename(next_url))\n",
        "            urllib.request.urlretrieve(next_url, output_file)\n",
        "            print(f'Successfully downloaded {os.path.basename(next_url)}')\n",
        "        except IOError:\n",
        "            print(f'Could not retrieve {next_url}')\n",
        "            error_count += 1\n",
        "        index_count += 1\n",
        "\n",
        "download_files('http://699340.youcanlearnit.net/image048.jpg', 'images2')"
      ],
      "metadata": {
        "colab": {
          "base_uri": "https://localhost:8080/"
        },
        "id": "Od0VFnGiAopb",
        "outputId": "57955353-5079-400b-cd95-0a515b42bd85"
      },
      "execution_count": null,
      "outputs": [
        {
          "output_type": "stream",
          "name": "stdout",
          "text": [
            "Successfully downloaded image048.jpg\n",
            "Successfully downloaded image049.jpg\n",
            "Successfully downloaded image050.jpg\n",
            "Could not retrieve http://699340.youcanlearnit.net/image051.jpg\n",
            "Could not retrieve http://699340.youcanlearnit.net/image052.jpg\n",
            "Could not retrieve http://699340.youcanlearnit.net/image053.jpg\n",
            "Could not retrieve http://699340.youcanlearnit.net/image054.jpg\n",
            "Could not retrieve http://699340.youcanlearnit.net/image055.jpg\n",
            "Could not retrieve http://699340.youcanlearnit.net/image056.jpg\n",
            "Could not retrieve http://699340.youcanlearnit.net/image057.jpg\n",
            "Could not retrieve http://699340.youcanlearnit.net/image058.jpg\n",
            "Could not retrieve http://699340.youcanlearnit.net/image059.jpg\n",
            "Could not retrieve http://699340.youcanlearnit.net/image060.jpg\n",
            "Could not retrieve http://699340.youcanlearnit.net/image061.jpg\n",
            "Could not retrieve http://699340.youcanlearnit.net/image062.jpg\n",
            "Could not retrieve http://699340.youcanlearnit.net/image063.jpg\n",
            "Could not retrieve http://699340.youcanlearnit.net/image064.jpg\n",
            "Could not retrieve http://699340.youcanlearnit.net/image065.jpg\n",
            "Could not retrieve http://699340.youcanlearnit.net/image066.jpg\n",
            "Could not retrieve http://699340.youcanlearnit.net/image067.jpg\n",
            "Could not retrieve http://699340.youcanlearnit.net/image068.jpg\n",
            "Could not retrieve http://699340.youcanlearnit.net/image069.jpg\n",
            "Could not retrieve http://699340.youcanlearnit.net/image070.jpg\n"
          ]
        }
      ]
    }
  ]
}